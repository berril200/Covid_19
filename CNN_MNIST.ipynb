{
  "nbformat": 4,
  "nbformat_minor": 0,
  "metadata": {
    "colab": {
      "provenance": [],
      "gpuType": "T4"
    },
    "kernelspec": {
      "name": "python3",
      "display_name": "Python 3"
    },
    "language_info": {
      "name": "python"
    },
    "accelerator": "GPU"
  },
  "cells": [
    {
      "cell_type": "markdown",
      "source": [
        "# CONVOLUTION NEURAL NETWORKS (CNN) PRACTICE"
      ],
      "metadata": {
        "id": "mvf78biHjpY4"
      }
    },
    {
      "cell_type": "code",
      "execution_count": null,
      "metadata": {
        "id": "brjngk28hsv7"
      },
      "outputs": [],
      "source": [
        "# Loading Libraries\n",
        "from tensorflow.keras.datasets import mnist #Dataset\n",
        "from tensorflow.keras.layers import Conv2D, MaxPooling2D, Flatten, Dense # layer for CNN\n",
        "from tensorflow.keras.models import Sequential #stack of layers\n",
        "from tensorflow.keras.utils import to_categorical # converts labels into one-hot encoded"
      ]
    },
    {
      "cell_type": "code",
      "source": [
        "# Loading the dataset\n",
        "(X_train, y_train), (X_test, y_test) = mnist.load_data()"
      ],
      "metadata": {
        "colab": {
          "base_uri": "https://localhost:8080/"
        },
        "id": "8tB2ItbLkGKq",
        "outputId": "c0205c5d-3094-411e-a881-6d08ccc43682"
      },
      "execution_count": null,
      "outputs": [
        {
          "output_type": "stream",
          "name": "stdout",
          "text": [
            "Downloading data from https://storage.googleapis.com/tensorflow/tf-keras-datasets/mnist.npz\n",
            "\u001b[1m11490434/11490434\u001b[0m \u001b[32m━━━━━━━━━━━━━━━━━━━━\u001b[0m\u001b[37m\u001b[0m \u001b[1m0s\u001b[0m 0us/step\n"
          ]
        }
      ]
    },
    {
      "cell_type": "code",
      "source": [
        "# Preprocessing the dataset\n",
        "X_train = X_train.reshape(-1, 28, 28, 1).astype('float32')/255\n",
        "X_test = X_test.reshape(-1, 28, 28, 1).astype('float32')/255\n"
      ],
      "metadata": {
        "id": "nSjX3bTjkxEo"
      },
      "execution_count": null,
      "outputs": []
    },
    {
      "cell_type": "code",
      "source": [
        "# Converts labels into one hot encoding\n",
        "y_train = to_categorical (y_train)\n",
        "y_test = to_categorical (y_test)"
      ],
      "metadata": {
        "id": "XC6LVxZZm97b"
      },
      "execution_count": null,
      "outputs": []
    },
    {
      "cell_type": "code",
      "source": [
        "# Constructing the CNN\n",
        "model = Sequential([\n",
        "    Conv2D(32, (3, 3), activation= 'relu', input_shape= (28, 28, 1)),\n",
        "    MaxPooling2D(pool_size=(2, 2)),\n",
        "\n",
        "    Conv2D(64, (3, 3), activation= 'relu', input_shape= (28, 28, 1)),\n",
        "    MaxPooling2D(pool_size=(2, 2)),\n",
        "\n",
        "    Flatten(),\n",
        "    Dense(128, activation= 'relu'),\n",
        "    Dense(10, activation= 'softmax')\n",
        "])"
      ],
      "metadata": {
        "colab": {
          "base_uri": "https://localhost:8080/"
        },
        "id": "4mwxvs4_nfak",
        "outputId": "327d682f-70d4-475f-a1f8-82d285a25e80"
      },
      "execution_count": null,
      "outputs": [
        {
          "output_type": "stream",
          "name": "stderr",
          "text": [
            "/usr/local/lib/python3.12/dist-packages/keras/src/layers/convolutional/base_conv.py:113: UserWarning: Do not pass an `input_shape`/`input_dim` argument to a layer. When using Sequential models, prefer using an `Input(shape)` object as the first layer in the model instead.\n",
            "  super().__init__(activity_regularizer=activity_regularizer, **kwargs)\n"
          ]
        }
      ]
    },
    {
      "cell_type": "code",
      "source": [
        "# Compiling and training the model\n",
        "model.compile(optimizer='Adam', loss='categorical_crossentropy', metrics=['accuracy'])\n",
        "model.fit(X_train, y_train, epochs=5, batch_size=32, validation_split=0.1)"
      ],
      "metadata": {
        "colab": {
          "base_uri": "https://localhost:8080/"
        },
        "id": "yGhxbNyOpb96",
        "outputId": "3bed37f0-462b-4813-f059-9efb09e86d21"
      },
      "execution_count": null,
      "outputs": [
        {
          "output_type": "stream",
          "name": "stdout",
          "text": [
            "Epoch 1/5\n",
            "\u001b[1m1688/1688\u001b[0m \u001b[32m━━━━━━━━━━━━━━━━━━━━\u001b[0m\u001b[37m\u001b[0m \u001b[1m12s\u001b[0m 4ms/step - accuracy: 0.9048 - loss: 0.3118 - val_accuracy: 0.9855 - val_loss: 0.0523\n",
            "Epoch 2/5\n",
            "\u001b[1m1688/1688\u001b[0m \u001b[32m━━━━━━━━━━━━━━━━━━━━\u001b[0m\u001b[37m\u001b[0m \u001b[1m6s\u001b[0m 4ms/step - accuracy: 0.9863 - loss: 0.0414 - val_accuracy: 0.9900 - val_loss: 0.0358\n",
            "Epoch 3/5\n",
            "\u001b[1m1688/1688\u001b[0m \u001b[32m━━━━━━━━━━━━━━━━━━━━\u001b[0m\u001b[37m\u001b[0m \u001b[1m10s\u001b[0m 3ms/step - accuracy: 0.9915 - loss: 0.0272 - val_accuracy: 0.9895 - val_loss: 0.0395\n",
            "Epoch 4/5\n",
            "\u001b[1m1688/1688\u001b[0m \u001b[32m━━━━━━━━━━━━━━━━━━━━\u001b[0m\u001b[37m\u001b[0m \u001b[1m10s\u001b[0m 3ms/step - accuracy: 0.9934 - loss: 0.0196 - val_accuracy: 0.9902 - val_loss: 0.0369\n",
            "Epoch 5/5\n",
            "\u001b[1m1688/1688\u001b[0m \u001b[32m━━━━━━━━━━━━━━━━━━━━\u001b[0m\u001b[37m\u001b[0m \u001b[1m10s\u001b[0m 3ms/step - accuracy: 0.9953 - loss: 0.0146 - val_accuracy: 0.9905 - val_loss: 0.0377\n"
          ]
        },
        {
          "output_type": "execute_result",
          "data": {
            "text/plain": [
              "<keras.src.callbacks.history.History at 0x7fa447fc4cb0>"
            ]
          },
          "metadata": {},
          "execution_count": 6
        }
      ]
    },
    {
      "cell_type": "code",
      "source": [
        "# Evaluating Test Data\n",
        "loss, acc = model.evaluate(X_test, y_test)\n",
        "print(f'Test Loss: {loss}')\n",
        "print(f'Test Accuracy: {acc}')"
      ],
      "metadata": {
        "colab": {
          "base_uri": "https://localhost:8080/"
        },
        "id": "PI3hJoFcp2zt",
        "outputId": "bceb6f52-63d1-4440-c74d-cb931cbe54e8"
      },
      "execution_count": null,
      "outputs": [
        {
          "output_type": "stream",
          "name": "stdout",
          "text": [
            "\u001b[1m313/313\u001b[0m \u001b[32m━━━━━━━━━━━━━━━━━━━━\u001b[0m\u001b[37m\u001b[0m \u001b[1m1s\u001b[0m 2ms/step - accuracy: 0.9848 - loss: 0.0448\n",
            "Test Loss: 0.035831984132528305\n",
            "Test Accuracy: 0.9883999824523926\n"
          ]
        }
      ]
    },
    {
      "cell_type": "markdown",
      "source": [
        "SUMMARY:\n",
        "\n",
        "accuracy: 0.9848 → While training, the final accuracy on the last epoch’s validation (or evaluation) was 98.48%.\n",
        "\n",
        "loss: 0.0448 → The training (or validation) loss at the end of the last epoch was 0.0448. Lower is better.\n",
        "\n",
        "Test Loss: 0.0358 → When we ran the model on the held-out test set, the model’s loss was 0.0358, which is even better than the training loss (good sign—no overfitting).\n",
        "\n",
        "Test Accuracy: 0.9884 → The model correctly classified about 98.84% of the test digits.\n",
        "\n",
        "In simple terms: the CNN did an excellent job — nearly 99% accuracy on unseen MNIST data."
      ],
      "metadata": {
        "id": "_4ICQ3Ikqz2q"
      }
    }
  ]
}